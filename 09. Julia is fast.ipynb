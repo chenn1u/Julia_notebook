{
 "cells": [
  {
   "cell_type": "code",
   "execution_count": 1,
   "metadata": {},
   "outputs": [
    {
     "data": {
      "text/plain": [
       "10000000-element Array{Float64,1}:\n",
       " 0.45509954902077054\n",
       " 0.9889839370964761\n",
       " 0.20386182791752527\n",
       " 0.11357665679035844\n",
       " 0.7329019382933719\n",
       " 0.890773082482599\n",
       " 0.282795321824846\n",
       " 0.8448745031315685\n",
       " 0.1213931183982706\n",
       " 0.24306149871279792\n",
       " 0.6119153429342408\n",
       " 0.8571615936587733\n",
       " 0.9236635370825141\n",
       " ⋮\n",
       " 0.6275736567863182\n",
       " 0.9954137181095786\n",
       " 0.44648587158568054\n",
       " 0.8128209647907854\n",
       " 0.8946711898405999\n",
       " 0.44103127862724767\n",
       " 0.70903810286788\n",
       " 0.20741280908523074\n",
       " 0.0742596153553654\n",
       " 0.8112607592570142\n",
       " 0.9580137626020861\n",
       " 0.7245232903871168"
      ]
     },
     "execution_count": 1,
     "metadata": {},
     "output_type": "execute_result"
    }
   ],
   "source": [
    "a = rand(10 ^ 7)"
   ]
  },
  {
   "cell_type": "code",
   "execution_count": 2,
   "metadata": {},
   "outputs": [
    {
     "data": {
      "text/plain": [
       "4.999759164990047e6"
      ]
     },
     "execution_count": 2,
     "metadata": {},
     "output_type": "execute_result"
    }
   ],
   "source": [
    "sum(a)"
   ]
  },
  {
   "cell_type": "code",
   "execution_count": 4,
   "metadata": {},
   "outputs": [
    {
     "name": "stdout",
     "output_type": "stream",
     "text": [
      "  0.006576 seconds (1 allocation: 16 bytes)\n",
      "  0.006175 seconds (1 allocation: 16 bytes)\n",
      "  0.005617 seconds (1 allocation: 16 bytes)\n"
     ]
    },
    {
     "data": {
      "text/plain": [
       "4.999759164990047e6"
      ]
     },
     "execution_count": 4,
     "metadata": {},
     "output_type": "execute_result"
    }
   ],
   "source": [
    "@time sum(a)\n",
    "\n",
    "@time sum(a)\n",
    "\n",
    "@time sum(a)"
   ]
  },
  {
   "cell_type": "code",
   "execution_count": 5,
   "metadata": {},
   "outputs": [
    {
     "name": "stderr",
     "output_type": "stream",
     "text": [
      "\u001b[32m\u001b[1m   Updating\u001b[22m\u001b[39m registry at `~/.julia/registries/General`\n",
      "\u001b[32m\u001b[1m  Resolving\u001b[22m\u001b[39m package versions...\n",
      "\u001b[32m\u001b[1m  Installed\u001b[22m\u001b[39m BenchmarkTools ─ v0.5.0\n",
      "\u001b[32m\u001b[1mUpdating\u001b[22m\u001b[39m `~/.julia/environments/v1.5/Project.toml`\n",
      " \u001b[90m [6e4b80f9] \u001b[39m\u001b[92m+ BenchmarkTools v0.5.0\u001b[39m\n",
      "\u001b[32m\u001b[1mUpdating\u001b[22m\u001b[39m `~/.julia/environments/v1.5/Manifest.toml`\n",
      " \u001b[90m [6e4b80f9] \u001b[39m\u001b[92m+ BenchmarkTools v0.5.0\u001b[39m\n"
     ]
    }
   ],
   "source": [
    "using Pkg\n",
    "Pkg.add(\"BenchmarkTools\")"
   ]
  },
  {
   "cell_type": "code",
   "execution_count": 6,
   "metadata": {},
   "outputs": [
    {
     "name": "stderr",
     "output_type": "stream",
     "text": [
      "┌ Info: Precompiling BenchmarkTools [6e4b80f9-dd63-53aa-95a3-0cdb28fa8baf]\n",
      "└ @ Base loading.jl:1278\n"
     ]
    }
   ],
   "source": [
    "using BenchmarkTools"
   ]
  },
  {
   "cell_type": "code",
   "execution_count": 7,
   "metadata": {},
   "outputs": [
    {
     "data": {
      "text/plain": [
       "BenchmarkTools.Trial: \n",
       "  memory estimate:  0 bytes\n",
       "  allocs estimate:  0\n",
       "  --------------\n",
       "  minimum time:     4.600 ms (0.00% GC)\n",
       "  median time:      4.686 ms (0.00% GC)\n",
       "  mean time:        4.709 ms (0.00% GC)\n",
       "  maximum time:     6.589 ms (0.00% GC)\n",
       "  --------------\n",
       "  samples:          1062\n",
       "  evals/sample:     1"
      ]
     },
     "execution_count": 7,
     "metadata": {},
     "output_type": "execute_result"
    }
   ],
   "source": [
    "j_bench = @benchmark sum($a)"
   ]
  },
  {
   "cell_type": "markdown",
   "metadata": {},
   "source": [
    "比较没有做，总之就是很快，很 C 差不多，有时比它快。"
   ]
  }
 ],
 "metadata": {
  "kernelspec": {
   "display_name": "Julia 1.5.2",
   "language": "julia",
   "name": "julia-1.5"
  },
  "language_info": {
   "file_extension": ".jl",
   "mimetype": "application/julia",
   "name": "julia",
   "version": "1.5.2"
  }
 },
 "nbformat": 4,
 "nbformat_minor": 4
}
